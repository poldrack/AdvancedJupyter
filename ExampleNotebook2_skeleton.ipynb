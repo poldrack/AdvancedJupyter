{
 "cells": [
  {
   "cell_type": "markdown",
   "id": "02b2f4d8-7e22-4cbf-a47b-aa5f006c9db2",
   "metadata": {},
   "source": [
    "## Creating a Jupyter notebook in VSCode\n",
    "\n",
    "\n",
    "We will create a simulated dataset from an experiment that includes 100 individuals, each tested on 20 different test items.  \n",
    "\n",
    "Performance on each test is a function of a subject mean, an item difficulty, and random noise.  There should be three standard deviations specified: one for subjects, one for items, and one for random noise."
   ]
  },
  {
   "cell_type": "code",
   "execution_count": 1,
   "id": "9f377bbc-532f-4d66-b761-7c159f533bc0",
   "metadata": {},
   "outputs": [],
   "source": [
    "import numpy as np\n",
    "import pandas as pd\n",
    "import statsmodels.api as sm\n"
   ]
  },
  {
   "cell_type": "code",
   "execution_count": 2,
   "id": "e4b229fd-9300-4824-b88d-aa10f051764a",
   "metadata": {},
   "outputs": [],
   "source": [
    "# We will create a simulated dataset from an experiment that includes 100 individuals, each tested on 20 different test items.  \n",
    "\n",
    "# The score on each test is a function of a subject mean, an item difficulty, and random noise.  \n",
    "# There should be three standard deviations specified: one for subjects, one for items, and one for random noise.\n",
    "# subjects are randomly assigned to one of two treatment conditions\n",
    "# The goal is to estimate the effect of the treatment on performance, while controlling for subject and item effects.\n",
    "\n"
   ]
  },
  {
   "cell_type": "code",
   "execution_count": 3,
   "id": "a1742c10",
   "metadata": {},
   "outputs": [],
   "source": [
    "# run a linear mixed effects model\n",
    "# with a random intercept for both subjects and items\n",
    "\n",
    "# necessary dummy variable\n",
    "df[\"group\"] = 1 \n",
    "\n",
    "\n",
    "vcf = {\"item\": \"0 + C(item)\", \"subject\": \"0 + C(subject)\"}                                                         \n",
    "model = sm.MixedLM.from_formula(\"score ~ treatment\", groups=\"group\",                                              \n",
    "                                vc_formula=vcf, re_formula=\"0\", data=df)                                                   \n",
    "result = model.fit()  \n"
   ]
  },
  {
   "cell_type": "code",
   "execution_count": null,
   "id": "437d2352",
   "metadata": {},
   "outputs": [],
   "source": [
    "result.summary()"
   ]
  },
  {
   "cell_type": "markdown",
   "id": "d04dc2e6",
   "metadata": {},
   "source": [
    "## using the R magic"
   ]
  },
  {
   "cell_type": "code",
   "execution_count": 5,
   "id": "46875a3a",
   "metadata": {},
   "outputs": [],
   "source": [
    "# requires that rpy2 has been installed\n",
    "%load_ext rpy2.ipython"
   ]
  },
  {
   "cell_type": "code",
   "execution_count": null,
   "id": "8bd7eedd",
   "metadata": {},
   "outputs": [],
   "source": [
    "%%R -i df -o coefs\n",
    "\n",
    "\n"
   ]
  },
  {
   "cell_type": "code",
   "execution_count": 7,
   "id": "2075c533",
   "metadata": {},
   "outputs": [
    {
     "data": {
      "text/plain": [
       "array([[-0.30452044,  0.50763966, -0.59987519],\n",
       "       [ 0.51873734,  0.14898919,  3.48171129]])"
      ]
     },
     "execution_count": 7,
     "metadata": {},
     "output_type": "execute_result"
    }
   ],
   "source": [
    "coefs"
   ]
  },
  {
   "cell_type": "code",
   "execution_count": null,
   "id": "27a03b90",
   "metadata": {},
   "outputs": [],
   "source": [
    "%%R\n",
    "\n",
    "library(performance)\n",
    "check_model(model)"
   ]
  },
  {
   "cell_type": "code",
   "execution_count": null,
   "id": "2c203d2e",
   "metadata": {},
   "outputs": [],
   "source": []
  }
 ],
 "metadata": {
  "kernelspec": {
   "display_name": "Python 3 (ipykernel)",
   "language": "python",
   "name": "python3"
  },
  "language_info": {
   "codemirror_mode": {
    "name": "ipython",
    "version": 3
   },
   "file_extension": ".py",
   "mimetype": "text/x-python",
   "name": "python",
   "nbconvert_exporter": "python",
   "pygments_lexer": "ipython3",
   "version": "3.12.5"
  }
 },
 "nbformat": 4,
 "nbformat_minor": 5
}
